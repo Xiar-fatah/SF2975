{
 "cells": [
  {
   "cell_type": "code",
   "execution_count": 1,
   "metadata": {},
   "outputs": [],
   "source": [
    "import pandas as pd\n",
    "import numpy as np\n",
    "import matplotlib.pyplot as plt\n",
    "from matplotlib import cm\n",
    "from matplotlib.ticker import LinearLocator\n",
    "from mpl_toolkits.mplot3d import Axes3D"
   ]
  },
  {
   "cell_type": "markdown",
   "metadata": {},
   "source": [
    "# Dupire's Formula\n",
    "#### $\\sigma(T,K)^2 = \\frac{2}{K^2}{\\frac{\\frac{\\partial c(T,K)}{\\partial T} + rK\\frac{\\partial c}{\\partial K}}{\\frac{\\partial^2 c}{\\partial K^2}}}$\n",
    "Setting $r = 0$ we get:\n",
    "#### $\\sigma(T,K)^2 = \\frac{2}{K^2}{\\frac{\\frac{\\partial c(T,K)}{\\partial T}}{\\frac{\\partial^2 c}{\\partial K^2}}}$"
   ]
  },
  {
   "cell_type": "markdown",
   "metadata": {},
   "source": [
    "# Load in options data"
   ]
  },
  {
   "cell_type": "code",
   "execution_count": 2,
   "metadata": {},
   "outputs": [],
   "source": [
    "options_1 = pd.read_csv('./New_option_prices_1.csv', header=None, names=[\"Maturity\", \"Strike\", \"Price\"])\n",
    "options_2 = pd.read_csv('./New_option_prices_2.csv', header=None, names=[\"Maturity\", \"Strike\", \"Price\"])\n",
    "\n",
    "options_1 = options_2\n",
    "options_1['Price'] = options_1['Price'] + np.random.normal(0,0.001,105)"
   ]
  },
  {
   "cell_type": "markdown",
   "metadata": {},
   "source": [
    "## Approximate using finite differences\n",
    "Using finite diffrences we can approximate the derivatives as follows:\n",
    "#### Forward Difference\n",
    "#### $\\frac {\\partial c(T,K)}{\\partial T} \\approx \\frac{c(T + h, K) - c(T, K)}{h}$ and $\\frac {\\partial c(T,K)}{\\partial K} \\approx \\frac{c(T, K + h) - c(T,K)}{h}$\n",
    "\n",
    "#### Backward Difference\n",
    "#### $\\frac {\\partial c(T,K)}{\\partial T} \\approx \\frac{c(T , K) - c(T - h, K)}{h}$ and $\\frac {\\partial c(T,K)}{\\partial K} \\approx \\frac{c(T, K ) - c(T,K - h)}{h}$\n",
    "\n",
    "#### Central Difference\n",
    "#### $\\frac {\\partial c(T,K)}{\\partial T} \\approx \\frac{c(T + h_1, K) - c(T - h_2, K)}{h_1 + h_2}$ and $\\frac {\\partial c(T,K)}{\\partial K} \\approx \\frac{c(T, K + h_1 ) - c(T,K - h_2)}{h_1 + h_2}$"
   ]
  },
  {
   "cell_type": "code",
   "execution_count": 3,
   "metadata": {},
   "outputs": [],
   "source": [
    "#options_1['dt_backwards'] = options_1.groupby('Strike').apply(lambda x: x['Price'].diff(-1)/x['Maturity'].diff(-1)).reset_index(level=0)[0]\n",
    "options_1['dt_forwards'] = options_1.groupby('Strike').apply(lambda x: x['Price'].diff(-1)/x['Maturity'].diff(-1)).reset_index(level=0)[0]\n",
    "options_1['dK2'] = options_1[['Maturity', 'Strike','Price']].groupby('Maturity').apply(lambda x: (x['Price'].shift(1) - 2*x['Price'] + x['Price'].shift(-1))/100).reset_index(level=0)['Price']\n",
    "options_1['iv'] = np.sqrt(2*options_1['dt_forwards']/(options_1['Strike']**2 *options_1['dK2']))"
   ]
  },
  {
   "cell_type": "code",
   "execution_count": 8,
   "metadata": {},
   "outputs": [
    {
     "data": {
      "application/vnd.jupyter.widget-view+json": {
       "model_id": "49062c0646e74ad0b062419cf276f4e8",
       "version_major": 2,
       "version_minor": 0
      },
      "text/plain": [
       "Canvas(toolbar=Toolbar(toolitems=[('Home', 'Reset original view', 'home', 'home'), ('Back', 'Back to previous …"
      ]
     },
     "metadata": {},
     "output_type": "display_data"
    },
    {
     "name": "stderr",
     "output_type": "stream",
     "text": [
      "C:\\Users\\Tariq\\AppData\\Roaming\\Python\\Python36\\site-packages\\ipykernel_launcher.py:15: UserWarning: Z contains NaN values. This may result in rendering artifacts.\n",
      "  from ipykernel import kernelapp as app\n"
     ]
    }
   ],
   "source": [
    "#%matplotlib widget\n",
    "\n",
    "fig, ax = plt.subplots(subplot_kw={\"projection\": \"3d\"})\n",
    "\n",
    "# Make data.\n",
    "X = options_1['Maturity'].unique()\n",
    "Y = options_1['Strike'].unique()\n",
    "X, Y = np.meshgrid(X, Y)\n",
    "Z = []\n",
    "for i in range(5):\n",
    "    Z.append(options_1['iv'].iloc[i*21:(i+1)*21].values)\n",
    "Z = np.transpose(np.array(Z))\n",
    "\n",
    "# Plot the surface.\n",
    "surf = ax.plot_surface(X, Y, Z, cmap=cm.coolwarm, linewidth=0, antialiased=False)\n",
    "\n",
    "# Customize the z axis.\n",
    "ax.zaxis.set_major_locator(LinearLocator(10))\n",
    "# A StrMethodFormatter is used automatically\n",
    "\n",
    "# Add a color bar which maps values to colors.\n",
    "fig.colorbar(surf, shrink=0.5, aspect=5)\n",
    "\n",
    "plt.show()"
   ]
  },
  {
   "cell_type": "code",
   "execution_count": null,
   "metadata": {},
   "outputs": [
    {
     "data": {
      "text/plain": [
       "[<mpl_toolkits.mplot3d.art3d.Line3D at 0x1aa55850cf8>]"
      ]
     },
     "execution_count": 6,
     "metadata": {},
     "output_type": "execute_result"
    }
   ],
   "source": [
    "plt.plot(options_1['Maturity'].unique(), Z[5])"
   ]
  },
  {
   "cell_type": "markdown",
   "metadata": {},
   "source": [
    "#### $C = N(d_1)S_t - N(d_2)Ke^{-rt}$\n",
    "#### $d_1 = \\frac{ln \\frac{S_t}{K} + (r + \\frac{\\sigma^2}{2})(T-t)}{\\sigma \\sqrt{T-t}}$\n",
    "#### $d_2 = d_1 - \\sigma \\sqrt{T-t}$\n",
    "\n",
    "#### $C$ = Call options price\n",
    "#### $N$ = CDF Of the normal districbution\n",
    "#### $S_t$ = Spot price of and asset\n",
    "#### $K$ = Strike price\n",
    "#### $r$ = risk-free interest rate\n",
    "#### $t$ = time to maturity\n",
    "#### $\\sigma$ = volatility of asset"
   ]
  },
  {
   "cell_type": "code",
   "execution_count": null,
   "metadata": {},
   "outputs": [],
   "source": []
  }
 ],
 "metadata": {
  "kernelspec": {
   "display_name": "Python 3",
   "language": "python",
   "name": "python3"
  },
  "language_info": {
   "codemirror_mode": {
    "name": "ipython",
    "version": 3
   },
   "file_extension": ".py",
   "mimetype": "text/x-python",
   "name": "python",
   "nbconvert_exporter": "python",
   "pygments_lexer": "ipython3",
   "version": "3.6.12"
  }
 },
 "nbformat": 4,
 "nbformat_minor": 4
}
