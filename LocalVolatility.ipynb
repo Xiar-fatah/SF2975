{
 "cells": [
  {
   "cell_type": "markdown",
   "metadata": {},
   "source": [
    "b) \n",
    "\n",
    "Use call option prices from the two csv-files found at the homepage of the course\n",
    "to estimate two local volatility surfaces using Dupire's formula. Each row in the \n",
    "csv-files consists of data on the form\n",
    "\n",
    "Time to maturity, Strike price, Call option price.\n",
    "\n",
    "Set r = 0 and approximate the derivatives in the Dupire formula using finite differences."
   ]
  },
  {
   "cell_type": "code",
   "execution_count": 1,
   "metadata": {},
   "outputs": [],
   "source": [
    "import pandas as pd\n",
    "import numpy as np"
   ]
  },
  {
   "cell_type": "code",
   "execution_count": 16,
   "metadata": {},
   "outputs": [],
   "source": [
    "df = pd.read_csv('New_option_prices_1.csv')\n",
    "df_2 =pd.read_csv('New_option_prices_2.csv')"
   ]
  },
  {
   "cell_type": "code",
   "execution_count": 24,
   "metadata": {},
   "outputs": [
    {
     "data": {
      "text/plain": [
       "array([0.024658, 0.10137 , 0.17808 , 0.34795 , 0.84932 ])"
      ]
     },
     "execution_count": 24,
     "metadata": {},
     "output_type": "execute_result"
    }
   ],
   "source": [
    "df['TimeToMaturity'].unique()"
   ]
  },
  {
   "cell_type": "code",
   "execution_count": 26,
   "metadata": {},
   "outputs": [
    {
     "data": {
      "text/plain": [
       "array([1550, 1560, 1570, 1580, 1590, 1600, 1610, 1620, 1630, 1640, 1650,\n",
       "       1660, 1670, 1680, 1690, 1700, 1710, 1720, 1730, 1740, 1750])"
      ]
     },
     "execution_count": 26,
     "metadata": {},
     "output_type": "execute_result"
    }
   ],
   "source": [
    "df['StrikePrice'].unique()"
   ]
  },
  {
   "cell_type": "code",
   "execution_count": 30,
   "metadata": {},
   "outputs": [
    {
     "data": {
      "text/plain": [
       "array([4.5188e+01, 3.7096e+01, 2.9562e+01, 2.2739e+01, 1.6771e+01,\n",
       "       1.1770e+01, 7.7927e+00, 4.8206e+00, 2.7572e+00, 1.4419e+00,\n",
       "       6.8155e-01, 2.8773e-01, 1.0721e-01, 3.4846e-02, 9.7665e-03,\n",
       "       2.3344e-03, 4.7080e-04, 7.9310e-05, 1.1053e-05, 1.2631e-06,\n",
       "       1.1736e-07, 5.0624e+01, 4.2426e+01, 3.4423e+01, 2.6799e+01,\n",
       "       2.1554e+01, 1.7655e+01, 1.4320e+01, 1.1486e+01, 9.1072e+00,\n",
       "       7.1363e+00, 5.5257e+00, 4.2273e+00, 3.1951e+00, 2.3857e+00,\n",
       "       1.7597e+00, 1.2823e+00, 9.2304e-01, 6.5640e-01, 4.6116e-01,\n",
       "       3.2010e-01, 2.1954e-01, 5.6226e+01, 4.7801e+01, 4.0494e+01,\n",
       "       3.4120e+01, 2.8558e+01, 2.3724e+01, 1.9550e+01, 1.5975e+01,\n",
       "       1.2942e+01, 1.0393e+01, 8.2747e+00, 6.5312e+00, 5.1112e+00,\n",
       "       3.9666e+00, 3.0532e+00, 2.3313e+00, 1.7663e+00, 1.3282e+00,\n",
       "       9.9146e-01, 7.3488e-01, 5.4098e-01, 6.8283e+01, 6.2310e+01,\n",
       "       5.6618e+01, 5.1215e+01, 4.6106e+01, 4.1296e+01, 3.6790e+01,\n",
       "       3.2588e+01, 2.8691e+01, 2.5098e+01, 2.1804e+01, 1.8803e+01,\n",
       "       1.6090e+01, 1.3654e+01, 1.1484e+01, 9.5670e+00, 7.8896e+00,\n",
       "       6.4361e+00, 5.1901e+00, 4.1372e+00, 3.3194e+00, 9.5112e+01,\n",
       "       8.9639e+01, 8.4358e+01, 7.9271e+01, 7.4378e+01, 6.9679e+01,\n",
       "       6.5174e+01, 6.0861e+01, 5.6741e+01, 5.2810e+01, 4.9067e+01,\n",
       "       4.5510e+01, 4.2135e+01, 3.8939e+01, 3.5919e+01, 3.3070e+01,\n",
       "       3.0388e+01, 2.7869e+01, 2.5507e+01, 2.3297e+01, 2.1235e+01])"
      ]
     },
     "execution_count": 30,
     "metadata": {},
     "output_type": "execute_result"
    }
   ],
   "source": [
    "df['CallOptionPrice'].unique() #All options have unique prices. "
   ]
  },
  {
   "cell_type": "code",
   "execution_count": 25,
   "metadata": {},
   "outputs": [
    {
     "data": {
      "text/plain": [
       "array([0.021918, 0.09863 , 0.17534 , 0.34521 , 0.59726 ])"
      ]
     },
     "execution_count": 25,
     "metadata": {},
     "output_type": "execute_result"
    }
   ],
   "source": [
    "df_2['TimeToMaturity'].unique()"
   ]
  },
  {
   "cell_type": "code",
   "execution_count": 31,
   "metadata": {},
   "outputs": [
    {
     "data": {
      "text/plain": [
       "0.50137"
      ]
     },
     "execution_count": 31,
     "metadata": {},
     "output_type": "execute_result"
    }
   ],
   "source": [
    "0.84932-0.34795"
   ]
  },
  {
   "cell_type": "code",
   "execution_count": 32,
   "metadata": {},
   "outputs": [
    {
     "data": {
      "text/plain": [
       "0.16987"
      ]
     },
     "execution_count": 32,
     "metadata": {},
     "output_type": "execute_result"
    }
   ],
   "source": [
    "0.34795-0.17808"
   ]
  },
  {
   "cell_type": "code",
   "execution_count": 33,
   "metadata": {},
   "outputs": [
    {
     "data": {
      "text/plain": [
       "0.07670999999999999"
      ]
     },
     "execution_count": 33,
     "metadata": {},
     "output_type": "execute_result"
    }
   ],
   "source": [
    "0.17808-0.10137"
   ]
  },
  {
   "cell_type": "code",
   "execution_count": 34,
   "metadata": {},
   "outputs": [
    {
     "data": {
      "text/plain": [
       "0.076712"
      ]
     },
     "execution_count": 34,
     "metadata": {},
     "output_type": "execute_result"
    }
   ],
   "source": [
    "0.10137-0.024658"
   ]
  },
  {
   "cell_type": "code",
   "execution_count": null,
   "metadata": {},
   "outputs": [],
   "source": []
  }
 ],
 "metadata": {
  "kernelspec": {
   "display_name": "Python 3",
   "language": "python",
   "name": "python3"
  },
  "language_info": {
   "codemirror_mode": {
    "name": "ipython",
    "version": 3
   },
   "file_extension": ".py",
   "mimetype": "text/x-python",
   "name": "python",
   "nbconvert_exporter": "python",
   "pygments_lexer": "ipython3",
   "version": "3.8.3"
  }
 },
 "nbformat": 4,
 "nbformat_minor": 4
}
